{
 "cells": [
  {
   "cell_type": "code",
   "execution_count": 35,
   "metadata": {},
   "outputs": [],
   "source": [
    "## Import Everythin ##\n",
    "\n",
    "import keras\n",
    "import pickle\n",
    "import pandas as pd\n",
    "from keras.models import Sequential\n",
    "#from keras.metrics import \n",
    "import keras\n",
    "import keras.preprocessing.text\n",
    "from __future__ import absolute_import\n",
    "from __future__ import division\n",
    "\n",
    "import xgboost\n",
    "from xgboost import XGBRegressor\n",
    "\n",
    "\n",
    "\n",
    "import numpy\n",
    "import pandas\n",
    "from keras.models import Sequential\n",
    "from keras.layers import Dense\n",
    "from keras.wrappers.scikit_learn import KerasRegressor\n",
    "from sklearn.model_selection import cross_val_score\n",
    "from sklearn.model_selection import KFold\n",
    "from sklearn.preprocessing import StandardScaler\n",
    "from sklearn.pipeline import Pipeline\n",
    "from sklearn.metrics import r2_score\n",
    "\n",
    "import numpy\n",
    "import pandas\n",
    "from keras.models import Sequential\n",
    "from keras.layers import Dense\n",
    "from keras.layers import Dropout\n",
    "from keras.wrappers.scikit_learn import KerasRegressor\n",
    "from sklearn.model_selection import cross_val_score, GridSearchCV\n",
    "from sklearn.model_selection import KFold\n",
    "from sklearn.preprocessing import StandardScaler\n",
    "from sklearn.pipeline import Pipeline\n",
    "from sklearn.ensemble import GradientBoostingRegressor\n",
    "from sklearn.ensemble import RandomForestClassifier\n",
    "from sklearn.ensemble import ExtraTreesRegressor\n",
    "\n",
    "from keras.preprocessing import sequence\n",
    "from keras.models import Sequential\n",
    "from keras.layers.core import Dense, Activation\n",
    "from keras.layers.embeddings import Embedding\n",
    "from keras.layers.recurrent import LSTM\n",
    "\n",
    "import string\n",
    "import sys\n",
    "import numpy as np\n",
    "import pandas as pd\n",
    "from six.moves import range\n",
    "from six.moves import zip\n",
    "import matplotlib.pyplot as plt\n",
    "import warnings\n",
    "\n",
    "from sklearn.ensemble import RandomForestRegressor, AdaBoostRegressor, GradientBoostingRegressor\n",
    "from sklearn.neural_network import MLPRegressor\n",
    "from sklearn.svm import SVR, LinearSVR\n",
    "from sklearn.metrics import r2_score\n",
    "from sklearn.preprocessing import OneHotEncoder\n",
    "from sklearn.model_selection import train_test_split\n",
    "\n",
    "from sklearn import svm\n",
    "\n",
    "from sklearn import tree\n",
    "\n",
    "from sklearn.linear_model import SGDRegressor\n",
    "from sklearn.neighbors import KNeighborsRegressor"
   ]
  },
  {
   "cell_type": "code",
   "execution_count": 2,
   "metadata": {},
   "outputs": [
    {
     "name": "stdout",
     "output_type": "stream",
     "text": [
      "        y X0 X1  X2 X3 X4 X5 X6 X8  X10  ...   X375  X376  X377  X378  X379  \\\n",
      "ID                                       ...                                  \n",
      "6   88.53  k  t  av  e  d  y  l  o    0  ...      1     0     0     0     0   \n",
      "\n",
      "    X380  X382  X383  X384  X385  \n",
      "ID                                \n",
      "6      0     0     0     0     0  \n",
      "\n",
      "[1 rows x 377 columns]\n"
     ]
    }
   ],
   "source": [
    "#Prep the data\n",
    "\n",
    "file = open(\"data/noConst_and_OHE.p\",\"rb\")\n",
    "originaldata = pd.read_csv('data/train.csv', index_col='ID')\n",
    "testdata = pd.read_csv('data/test.csv',index_col='ID')\n",
    "\n",
    "###########\n",
    "\n",
    "print(originaldata.iloc[[1]])\n",
    "\n",
    "########\n",
    "\n",
    "train = pd.read_csv('data/train.csv', index_col='ID')\n",
    "y = train['y']\n",
    "train.drop('y', axis=1, inplace=True)\n",
    "test = pd.read_csv('data/test.csv', index_col='ID')\n",
    "constcols_train = list(train.loc[:,train.apply(lambda i: len(i.unique()) == 1)].columns)\n",
    "goodcols = list(set(train.columns).intersection(set(test.columns)) - set(constcols_train))\n",
    "train = train[goodcols]\n",
    "test = test[goodcols]\n",
    "tot = pd.concat([train, test]).sort_index()\n",
    "enumcols = list(tot.select_dtypes(include=['object']).columns)\n",
    "bincols = list(tot.select_dtypes(include=['int64']).columns)\n",
    "\n",
    "totOHE = pd.get_dummies(tot, columns=enumcols)\n",
    "trainOHE = totOHE.loc[train.index]\n",
    "\n",
    "testOHE = totOHE.loc[test.index]"
   ]
  },
  {
   "cell_type": "code",
   "execution_count": null,
   "metadata": {},
   "outputs": [],
   "source": []
  },
  {
   "cell_type": "code",
   "execution_count": 3,
   "metadata": {
    "collapsed": true
   },
   "outputs": [],
   "source": [
    "\n",
    "\n",
    "#####\n",
    "\n",
    "matarr  = trainOHE.as_matrix()\n",
    "testarr = testOHE.as_matrix()\n",
    "\n",
    "#####\n",
    "\n",
    "Input_Length = len(trainOHE.T) \n",
    "\n",
    "#####\n",
    "\n",
    "X_train1 = matarr[:3000,:]\n",
    "Y_train1 = y[:3000]\n",
    "X_train2 = matarr[3000:,:]\n",
    "Y_train2 = y[3000:]\n",
    "x = matarr\n",
    "y = y"
   ]
  },
  {
   "cell_type": "code",
   "execution_count": 4,
   "metadata": {},
   "outputs": [
    {
     "name": "stdout",
     "output_type": "stream",
     "text": [
      "(4209, 567)\n",
      "(4209, 567)\n"
     ]
    }
   ],
   "source": [
    "print(testOHE.shape)\n",
    "print(trainOHE.shape)"
   ]
  },
  {
   "cell_type": "code",
   "execution_count": 5,
   "metadata": {},
   "outputs": [
    {
     "name": "stdout",
     "output_type": "stream",
     "text": [
      "      X71  X59  X363  X34  X117  X369  X257  X277  X92  X300  ...   X1_p  \\\n",
      "ID                                                            ...          \n",
      "1       0    0     1    0     0     0     0     0    0     0  ...      0   \n",
      "2       0    0     0    0     0     0     0     0    0     0  ...      0   \n",
      "3       0    0     1    0     0     0     0     0    0     0  ...      0   \n",
      "4       0    0     1    0     0     0     0     0    0     0  ...      0   \n",
      "5       0    0     1    0     0     0     0     0    0     1  ...      0   \n",
      "8       0    0     0    0     0     0     0     0    0     0  ...      0   \n",
      "10      0    0     1    0     0     0     0     0    0     0  ...      0   \n",
      "11      0    0     1    0     0     0     0     0    0     0  ...      0   \n",
      "12      0    0     1    0     0     0     0     0    0     0  ...      0   \n",
      "14      0    0     1    0     0     0     0     0    0     0  ...      0   \n",
      "15      0    0     1    0     0     0     0     0    0     0  ...      0   \n",
      "16      0    0     1    0     0     0     0     0    0     0  ...      0   \n",
      "17      0    0     1    0     0     0     0     0    0     0  ...      0   \n",
      "19      0    0     1    0     0     0     0     0    0     0  ...      0   \n",
      "20      0    0     1    0     1     0     0     0    0     0  ...      0   \n",
      "21      0    0     1    0     0     0     0     0    0     0  ...      0   \n",
      "22      1    0     1    0     0     0     0     0    0     0  ...      0   \n",
      "23      0    0     1    0     0     0     0     0    0     0  ...      0   \n",
      "26      0    0     1    0     0     0     0     0    0     0  ...      0   \n",
      "28      0    0     0    0     0     0     0     0    0     0  ...      0   \n",
      "29      0    0     1    0     0     0     0     0    0     0  ...      0   \n",
      "33      0    0     1    0     0     0     0     0    0     0  ...      0   \n",
      "35      0    0     1    0     0     0     0     0    0     0  ...      0   \n",
      "41      0    0     1    0     0     0     0     0    0     0  ...      0   \n",
      "42      0    0     0    0     0     0     0     0    0     0  ...      0   \n",
      "43      0    0     1    0     0     0     0     0    0     0  ...      0   \n",
      "45      0    0     0    0     0     0     0     0    0     0  ...      0   \n",
      "46      0    0     0    0     0     0     0     0    0     1  ...      0   \n",
      "51      0    0     1    0     0     0     0     0    0     0  ...      0   \n",
      "53      1    0     1    0     0     0     0     0    0     0  ...      1   \n",
      "...   ...  ...   ...  ...   ...   ...   ...   ...  ...   ...  ...    ...   \n",
      "8361    1    0     1    0     0     0     0     0    0     0  ...      0   \n",
      "8363    0    0     0    0     0     0     0     0    0     0  ...      0   \n",
      "8364    0    0     0    0     0     0     0     0    0     0  ...      0   \n",
      "8365    0    0     1    0     0     0     0     0    0     0  ...      0   \n",
      "8366    0    0     1    0     0     0     0     0    0     0  ...      0   \n",
      "8370    0    0     1    0     0     0     0     0    0     1  ...      0   \n",
      "8372    0    0     1    0     0     0     0     0    0     0  ...      0   \n",
      "8376    0    0     0    0     0     0     0     0    0     0  ...      0   \n",
      "8377    0    0     1    0     0     0     0     0    0     0  ...      0   \n",
      "8379    0    0     1    0     0     0     0     0    0     1  ...      0   \n",
      "8380    0    0     0    0     0     0     0     0    0     0  ...      0   \n",
      "8381    0    0     0    0     0     0     0     0    0     1  ...      0   \n",
      "8386    0    0     0    0     0     0     0     0    0     0  ...      0   \n",
      "8388    0    0     1    0     0     0     0     0    0     0  ...      0   \n",
      "8389    1    0     1    0     0     0     0     0    0     0  ...      1   \n",
      "8391    0    0     1    0     0     0     0     0    0     0  ...      0   \n",
      "8394    0    0     1    0     0     0     0     0    0     0  ...      0   \n",
      "8396    0    0     1    0     0     0     0     0    0     1  ...      0   \n",
      "8398    0    0     0    0     0     0     0     0    0     0  ...      0   \n",
      "8400    0    0     1    0     0     0     0     0    0     0  ...      0   \n",
      "8401    0    0     1    0     0     0     0     0    0     0  ...      0   \n",
      "8404    0    0     0    0     0     0     0     0    0     0  ...      0   \n",
      "8407    0    0     1    0     0     0     0     0    0     0  ...      0   \n",
      "8408    0    0     1    0     0     0     0     0    0     0  ...      0   \n",
      "8409    0    0     0    0     0     0     0     0    0     0  ...      0   \n",
      "8410    0    0     1    0     0     0     0     0    0     1  ...      0   \n",
      "8411    0    0     1    0     0     0     0     0    0     0  ...      0   \n",
      "8413    0    0     1    0     0     0     0     0    0     1  ...      0   \n",
      "8414    0    0     1    0     0     0     0     0    0     1  ...      0   \n",
      "8416    0    0     0    0     0     0     0     0    0     0  ...      0   \n",
      "\n",
      "      X1_q  X1_r  X1_s  X1_t  X1_u  X1_v  X1_w  X1_y  X1_z  \n",
      "ID                                                          \n",
      "1        0     0     0     0     0     1     0     0     0  \n",
      "2        0     0     0     0     0     0     0     0     0  \n",
      "3        0     0     0     0     0     1     0     0     0  \n",
      "4        0     0     0     0     0     0     0     0     0  \n",
      "5        0     0     1     0     0     0     0     0     0  \n",
      "8        0     0     0     0     0     0     0     0     0  \n",
      "10       0     0     0     0     0     0     0     0     0  \n",
      "11       0     0     1     0     0     0     0     0     0  \n",
      "12       0     0     0     0     0     0     0     0     0  \n",
      "14       0     0     0     0     0     1     0     0     0  \n",
      "15       0     0     0     0     0     0     0     0     0  \n",
      "16       0     0     0     0     0     0     0     0     0  \n",
      "17       0     1     0     0     0     0     0     0     0  \n",
      "19       0     0     0     0     0     1     0     0     0  \n",
      "20       0     0     0     0     0     0     0     0     0  \n",
      "21       0     1     0     0     0     0     0     0     0  \n",
      "22       0     0     0     0     0     0     0     0     0  \n",
      "23       0     1     0     0     0     0     0     0     0  \n",
      "26       0     0     0     0     0     0     0     0     0  \n",
      "28       0     1     0     0     0     0     0     0     0  \n",
      "29       0     1     0     0     0     0     0     0     0  \n",
      "33       0     1     0     0     0     0     0     0     0  \n",
      "35       0     0     0     0     0     1     0     0     0  \n",
      "41       0     1     0     0     0     0     0     0     0  \n",
      "42       0     0     0     0     0     0     0     0     0  \n",
      "43       0     0     0     0     0     0     0     0     0  \n",
      "45       0     0     0     0     0     0     0     0     0  \n",
      "46       0     0     0     0     0     0     0     0     0  \n",
      "51       0     0     1     0     0     0     0     0     0  \n",
      "53       0     0     0     0     0     0     0     0     0  \n",
      "...    ...   ...   ...   ...   ...   ...   ...   ...   ...  \n",
      "8361     0     0     0     0     0     1     0     0     0  \n",
      "8363     0     0     0     0     0     0     0     0     0  \n",
      "8364     0     0     0     0     0     0     0     0     0  \n",
      "8365     0     0     0     0     0     0     0     0     0  \n",
      "8366     0     0     0     0     0     0     0     0     0  \n",
      "8370     0     0     0     0     0     0     0     0     0  \n",
      "8372     0     0     0     0     0     0     0     0     0  \n",
      "8376     0     0     0     0     0     0     0     0     0  \n",
      "8377     0     0     0     0     0     0     0     0     0  \n",
      "8379     0     1     0     0     0     0     0     0     0  \n",
      "8380     0     0     0     0     0     0     0     0     0  \n",
      "8381     0     0     0     0     0     0     0     0     0  \n",
      "8386     0     0     0     0     0     0     0     0     0  \n",
      "8388     0     0     0     0     0     0     0     0     0  \n",
      "8389     0     0     0     0     0     0     0     0     0  \n",
      "8391     0     0     0     0     0     0     0     0     0  \n",
      "8394     0     0     0     0     0     1     0     0     0  \n",
      "8396     0     0     0     0     0     0     0     0     0  \n",
      "8398     0     1     0     0     0     0     0     0     0  \n",
      "8400     0     0     0     0     0     0     0     0     0  \n",
      "8401     0     0     0     0     0     0     0     0     0  \n",
      "8404     0     1     0     0     0     0     0     0     0  \n",
      "8407     0     0     0     0     0     0     0     0     0  \n",
      "8408     0     0     0     0     0     0     0     0     0  \n",
      "8409     0     0     0     0     0     0     0     0     0  \n",
      "8410     0     0     0     0     0     0     0     0     0  \n",
      "8411     0     0     0     0     0     0     0     0     0  \n",
      "8413     0     0     0     0     0     1     0     0     0  \n",
      "8414     0     0     0     0     0     1     0     0     0  \n",
      "8416     0     0     0     0     0     0     0     0     0  \n",
      "\n",
      "[4209 rows x 567 columns]\n"
     ]
    }
   ],
   "source": [
    "print(testOHE)"
   ]
  },
  {
   "cell_type": "code",
   "execution_count": 6,
   "metadata": {
    "scrolled": true
   },
   "outputs": [
    {
     "name": "stdout",
     "output_type": "stream",
     "text": [
      "      X71  X59  X363  X34  X117  X369  X257  X277  X92  X300  ...   X1_p  \\\n",
      "ID                                                            ...          \n",
      "0       0    0     0    0     0     0     0     0    0     0  ...      0   \n",
      "6       0    0     1    0     0     0     0     0    0     0  ...      0   \n",
      "7       1    0     1    0     0     0     0     0    0     0  ...      0   \n",
      "9       1    0     1    0     0     0     0     0    0     0  ...      0   \n",
      "13      0    0     1    0     0     0     0     0    0     0  ...      0   \n",
      "18      0    0     0    0     0     0     0     0    0     0  ...      0   \n",
      "24      0    0     1    0     0     0     0     0    0     0  ...      0   \n",
      "25      0    0     1    0     0     0     0     0    0     1  ...      0   \n",
      "27      0    0     1    0     0     0     0     0    0     1  ...      0   \n",
      "30      0    0     1    0     0     0     0     0    0     0  ...      0   \n",
      "31      0    0     0    0     1     0     0     0    0     0  ...      0   \n",
      "32      0    0     1    0     0     0     0     0    0     0  ...      0   \n",
      "34      0    0     0    0     0     0     0     0    0     0  ...      0   \n",
      "36      0    0     1    0     0     0     0     0    0     0  ...      0   \n",
      "37      0    0     1    0     0     0     0     0    0     0  ...      0   \n",
      "38      0    0     1    0     1     0     0     0    0     0  ...      0   \n",
      "39      0    0     1    0     0     0     0     0    0     0  ...      0   \n",
      "40      0    0     0    0     0     0     0     0    0     1  ...      0   \n",
      "44      0    0     1    0     0     0     0     0    0     0  ...      0   \n",
      "47      0    0     1    0     0     0     0     0    0     0  ...      0   \n",
      "48      0    0     1    0     0     0     0     0    0     0  ...      0   \n",
      "49      0    0     1    0     0     0     0     0    0     0  ...      0   \n",
      "50      0    0     1    0     0     0     0     0    0     0  ...      0   \n",
      "52      0    0     0    0     0     0     0     0    0     0  ...      0   \n",
      "54      0    0     1    0     0     0     0     0    0     0  ...      0   \n",
      "60      0    0     1    0     0     0     0     0    0     0  ...      0   \n",
      "61      0    0     1    0     0     0     0     0    0     1  ...      0   \n",
      "62      0    0     0    0     0     0     0     0    0     0  ...      0   \n",
      "66      0    0     1    0     0     0     0     0    0     0  ...      0   \n",
      "67      0    0     0    0     0     0     0     0    0     0  ...      0   \n",
      "...   ...  ...   ...  ...   ...   ...   ...   ...  ...   ...  ...    ...   \n",
      "8354    0    0     1    0     0     0     0     0    0     0  ...      0   \n",
      "8356    0    0     0    0     0     0     0     0    0     0  ...      0   \n",
      "8357    0    0     1    0     0     0     0     0    0     1  ...      0   \n",
      "8362    0    0     1    0     0     0     0     0    0     0  ...      0   \n",
      "8367    0    0     0    0     0     0     0     0    0     0  ...      0   \n",
      "8368    0    0     1    0     0     0     0     0    0     1  ...      0   \n",
      "8369    1    0     0    0     0     0     0     0    0     0  ...      0   \n",
      "8371    1    0     1    0     0     0     0     0    0     0  ...      0   \n",
      "8373    0    0     1    0     0     0     0     0    0     0  ...      0   \n",
      "8374    1    0     1    0     0     0     0     0    0     0  ...      0   \n",
      "8375    0    0     1    0     0     0     0     0    0     1  ...      0   \n",
      "8378    0    0     1    0     0     0     0     0    0     0  ...      0   \n",
      "8382    0    0     1    0     0     0     0     0    0     0  ...      0   \n",
      "8383    0    0     1    0     0     0     0     0    0     1  ...      0   \n",
      "8384    0    0     1    0     0     0     0     0    0     0  ...      0   \n",
      "8385    0    0     1    0     0     0     0     0    0     1  ...      0   \n",
      "8387    0    0     1    0     0     0     0     0    0     0  ...      0   \n",
      "8390    0    0     0    0     0     0     0     0    0     0  ...      0   \n",
      "8392    0    0     1    0     0     0     0     0    0     0  ...      0   \n",
      "8393    0    0     1    0     1     0     0     0    0     0  ...      0   \n",
      "8395    0    0     1    0     0     0     0     0    0     0  ...      0   \n",
      "8397    0    0     1    0     0     0     0     0    0     0  ...      0   \n",
      "8399    0    0     0    0     0     0     0     0    0     0  ...      0   \n",
      "8402    0    0     1    0     0     0     0     0    0     0  ...      0   \n",
      "8403    1    0     1    0     0     0     0     0    0     0  ...      0   \n",
      "8405    0    0     1    0     0     0     0     0    0     0  ...      0   \n",
      "8406    0    0     0    0     0     0     0     0    0     0  ...      0   \n",
      "8412    1    0     1    0     0     0     0     0    0     0  ...      0   \n",
      "8415    0    0     0    0     0     0     0     0    0     0  ...      0   \n",
      "8417    0    0     1    0     0     0     0     0    0     0  ...      0   \n",
      "\n",
      "      X1_q  X1_r  X1_s  X1_t  X1_u  X1_v  X1_w  X1_y  X1_z  \n",
      "ID                                                          \n",
      "0        0     0     0     0     0     1     0     0     0  \n",
      "6        0     0     0     1     0     0     0     0     0  \n",
      "7        0     0     0     0     0     0     1     0     0  \n",
      "9        0     0     0     1     0     0     0     0     0  \n",
      "13       0     0     0     0     0     1     0     0     0  \n",
      "18       0     0     0     0     0     0     0     0     0  \n",
      "24       0     1     0     0     0     0     0     0     0  \n",
      "25       0     0     0     0     0     0     0     0     0  \n",
      "27       0     0     1     0     0     0     0     0     0  \n",
      "30       0     0     0     0     0     0     0     0     0  \n",
      "31       0     1     0     0     0     0     0     0     0  \n",
      "32       0     1     0     0     0     0     0     0     0  \n",
      "34       0     0     0     0     0     0     0     0     0  \n",
      "36       0     1     0     0     0     0     0     0     0  \n",
      "37       0     0     1     0     0     0     0     0     0  \n",
      "38       0     0     0     0     0     0     0     0     0  \n",
      "39       0     1     0     0     0     0     0     0     0  \n",
      "40       0     0     0     0     0     0     0     0     0  \n",
      "44       0     0     0     0     0     0     0     0     0  \n",
      "47       0     0     0     0     0     0     0     0     0  \n",
      "48       0     0     1     0     0     0     0     0     0  \n",
      "49       0     0     0     0     0     0     0     0     0  \n",
      "50       0     1     0     0     0     0     0     0     0  \n",
      "52       0     0     0     0     0     0     0     0     0  \n",
      "54       0     1     0     0     0     0     0     0     0  \n",
      "60       0     0     1     0     0     0     0     0     0  \n",
      "61       0     0     0     0     0     0     0     0     0  \n",
      "62       0     0     0     0     0     0     0     0     0  \n",
      "66       0     0     1     0     0     0     0     0     0  \n",
      "67       0     0     0     0     0     0     0     0     0  \n",
      "...    ...   ...   ...   ...   ...   ...   ...   ...   ...  \n",
      "8354     0     0     0     0     0     0     0     0     0  \n",
      "8356     0     0     0     0     0     1     0     0     0  \n",
      "8357     0     1     0     0     0     0     0     0     0  \n",
      "8362     0     0     0     0     0     1     0     0     0  \n",
      "8367     0     0     0     0     0     0     0     0     0  \n",
      "8368     0     0     1     0     0     0     0     0     0  \n",
      "8369     0     0     0     0     0     1     0     0     0  \n",
      "8371     0     0     0     0     0     0     0     0     0  \n",
      "8373     0     0     0     0     0     0     0     0     0  \n",
      "8374     0     0     1     0     0     0     0     0     0  \n",
      "8375     0     0     1     0     0     0     0     0     0  \n",
      "8378     0     0     1     0     0     0     0     0     0  \n",
      "8382     0     0     0     0     0     1     0     0     0  \n",
      "8383     0     0     0     0     0     0     0     0     0  \n",
      "8384     0     0     0     0     0     1     0     0     0  \n",
      "8385     0     0     0     0     0     0     0     0     0  \n",
      "8387     0     0     0     0     0     0     0     0     0  \n",
      "8390     0     0     0     0     0     0     0     0     0  \n",
      "8392     0     0     0     0     0     1     0     0     0  \n",
      "8393     0     0     0     0     0     0     0     0     0  \n",
      "8395     0     0     0     0     0     0     0     0     0  \n",
      "8397     0     0     0     0     0     0     0     0     0  \n",
      "8399     0     0     0     0     0     1     0     0     0  \n",
      "8402     0     0     0     0     0     0     0     0     0  \n",
      "8403     0     0     1     0     0     0     0     0     0  \n",
      "8405     0     0     1     0     0     0     0     0     0  \n",
      "8406     0     0     0     0     0     0     0     0     0  \n",
      "8412     0     0     0     0     0     1     0     0     0  \n",
      "8415     0     1     0     0     0     0     0     0     0  \n",
      "8417     0     1     0     0     0     0     0     0     0  \n",
      "\n",
      "[4209 rows x 567 columns]\n"
     ]
    }
   ],
   "source": [
    "print(trainOHE)"
   ]
  },
  {
   "cell_type": "code",
   "execution_count": null,
   "metadata": {
    "collapsed": true
   },
   "outputs": [],
   "source": []
  },
  {
   "cell_type": "code",
   "execution_count": null,
   "metadata": {
    "collapsed": true
   },
   "outputs": [],
   "source": []
  },
  {
   "cell_type": "code",
   "execution_count": null,
   "metadata": {
    "collapsed": true
   },
   "outputs": [],
   "source": []
  },
  {
   "cell_type": "code",
   "execution_count": 7,
   "metadata": {},
   "outputs": [
    {
     "data": {
      "text/plain": [
       "(4209, 567)"
      ]
     },
     "execution_count": 7,
     "metadata": {},
     "output_type": "execute_result"
    }
   ],
   "source": [
    "matarr.shape"
   ]
  },
  {
   "cell_type": "code",
   "execution_count": null,
   "metadata": {
    "collapsed": true
   },
   "outputs": [],
   "source": []
  },
  {
   "cell_type": "code",
   "execution_count": 8,
   "metadata": {},
   "outputs": [
    {
     "name": "stdout",
     "output_type": "stream",
     "text": [
      "567\n"
     ]
    }
   ],
   "source": [
    "print(Input_Length)"
   ]
  },
  {
   "cell_type": "code",
   "execution_count": null,
   "metadata": {
    "collapsed": true
   },
   "outputs": [],
   "source": []
  },
  {
   "cell_type": "code",
   "execution_count": 9,
   "metadata": {},
   "outputs": [
    {
     "name": "stdout",
     "output_type": "stream",
     "text": [
      "(3000, 567)\n",
      "(1209, 567)\n"
     ]
    }
   ],
   "source": [
    "print(X_train1.shape)\n",
    "print(X_train2.shape)\n"
   ]
  },
  {
   "cell_type": "code",
   "execution_count": null,
   "metadata": {
    "collapsed": true
   },
   "outputs": [],
   "source": []
  },
  {
   "cell_type": "code",
   "execution_count": 10,
   "metadata": {
    "collapsed": true
   },
   "outputs": [],
   "source": [
    "#basic Neural Net for Regression\n",
    "\n",
    "modelbasic = Sequential()\n",
    "modelbasic.add(Dense(15,input_dim=Input_Length,kernel_initializer='normal', activation='relu'))\n",
    "modelbasic.add(Dense(30, kernel_initializer='normal', activation='tanh'))\n",
    "#modelbasic.add(Dropout(0.2))\n",
    "modelbasic.add(Dense(20, kernel_initializer='normal', activation='relu'))\n",
    "modelbasic.add(Dense(1))\n",
    "\n",
    "\n",
    "modelbasic.compile(loss='mean_squared_error', optimizer='adam')"
   ]
  },
  {
   "cell_type": "code",
   "execution_count": 251,
   "metadata": {
    "collapsed": true
   },
   "outputs": [],
   "source": [
    "#function model\n",
    "\n",
    "def baseline_model():\n",
    "    # create model\n",
    "    model = Sequential()\n",
    "    model.add(Dense(13, input_dim=13, kernel_initializer='normal', activation='relu'))\n",
    "    model.add(Dense(1, kernel_initializer='normal',dropout=0.2))\n",
    "    # Compile model\n",
    "    model.compile(loss='mean_squared_error', optimizer='adam')\n",
    "    return model"
   ]
  },
  {
   "cell_type": "code",
   "execution_count": 288,
   "metadata": {},
   "outputs": [
    {
     "name": "stdout",
     "output_type": "stream",
     "text": [
      "Epoch 1/15\n",
      "4209/4209 [==============================] - 3s - loss: 59.3967     \n",
      "Epoch 2/15\n",
      "4209/4209 [==============================] - 3s - loss: 58.9482     \n",
      "Epoch 3/15\n",
      "4209/4209 [==============================] - 3s - loss: 57.2151     \n",
      "Epoch 4/15\n",
      "4209/4209 [==============================] - 3s - loss: 57.8172     \n",
      "Epoch 5/15\n",
      "4209/4209 [==============================] - 3s - loss: 55.6410     \n",
      "Epoch 6/15\n",
      "4209/4209 [==============================] - 3s - loss: 54.7940     \n",
      "Epoch 7/15\n",
      "4209/4209 [==============================] - 3s - loss: 53.0056     \n",
      "Epoch 8/15\n",
      "4209/4209 [==============================] - 3s - loss: 52.1385     \n",
      "Epoch 9/15\n",
      "4209/4209 [==============================] - 3s - loss: 50.9219     \n",
      "Epoch 10/15\n",
      "4209/4209 [==============================] - 3s - loss: 50.1070     \n",
      "Epoch 11/15\n",
      "4209/4209 [==============================] - 3s - loss: 48.8866     \n",
      "Epoch 12/15\n",
      "4209/4209 [==============================] - 3s - loss: 48.4482     \n",
      "Epoch 13/15\n",
      "4209/4209 [==============================] - 3s - loss: 46.8498     \n",
      "Epoch 14/15\n",
      "4209/4209 [==============================] - 3s - loss: 45.9920     \n",
      "Epoch 15/15\n",
      "4209/4209 [==============================] - 3s - loss: 45.1171     \n"
     ]
    }
   ],
   "source": [
    "runJob = modelbasic.fit(x, y, batch_size=1, epochs=15, verbose=1, shuffle=False)"
   ]
  },
  {
   "cell_type": "code",
   "execution_count": 23,
   "metadata": {
    "collapsed": true
   },
   "outputs": [],
   "source": [
    "seed = 7\n",
    "numpy.random.seed(seed)\n",
    "# evaluate model with standardized dataset\n",
    "estimator = KerasRegressor(build_fn=baseline_model, nb_epoch=100, batch_size=5, verbose=0)"
   ]
  },
  {
   "cell_type": "code",
   "execution_count": 11,
   "metadata": {},
   "outputs": [
    {
     "data": {
      "text/plain": [
       "RandomForestRegressor(bootstrap=True, criterion='mse', max_depth=4,\n",
       "           max_features='auto', max_leaf_nodes=None,\n",
       "           min_impurity_split=1e-07, min_samples_leaf=4,\n",
       "           min_samples_split=270, min_weight_fraction_leaf=0.0,\n",
       "           n_estimators=140, n_jobs=6, oob_score=False, random_state=1,\n",
       "           verbose=0, warm_start=True)"
      ]
     },
     "execution_count": 11,
     "metadata": {},
     "output_type": "execute_result"
    }
   ],
   "source": [
    "# Random Forest\n",
    "\n",
    "forestry = RandomForestRegressor(n_estimators=140,max_features='auto',max_depth=4,n_jobs=6,min_samples_split=270,min_samples_leaf=4,random_state=1,warm_start=True)\n",
    "forestry.fit(X_train1,Y_train1)"
   ]
  },
  {
   "cell_type": "code",
   "execution_count": 12,
   "metadata": {},
   "outputs": [
    {
     "data": {
      "text/plain": [
       "ExtraTreesRegressor(bootstrap=False, criterion='mse', max_depth=None,\n",
       "          max_features='auto', max_leaf_nodes=None,\n",
       "          min_impurity_split=1e-07, min_samples_leaf=1,\n",
       "          min_samples_split=2, min_weight_fraction_leaf=0.0,\n",
       "          n_estimators=10, n_jobs=1, oob_score=False, random_state=None,\n",
       "          verbose=0, warm_start=False)"
      ]
     },
     "execution_count": 12,
     "metadata": {},
     "output_type": "execute_result"
    }
   ],
   "source": [
    "# Extra Trees\n",
    "\n",
    "extraX = ExtraTreesRegressor(bootstrap=False, criterion='mse', max_depth=None,\n",
    "          max_features='auto', max_leaf_nodes=None,\n",
    "          min_impurity_split=1e-07, min_samples_leaf=1,\n",
    "          min_samples_split=2, min_weight_fraction_leaf=0.0,\n",
    "          n_estimators=10, n_jobs=1, oob_score=False, random_state=None,\n",
    "          verbose=0, warm_start=False)\n",
    "extraX.fit(X_train1,Y_train1)"
   ]
  },
  {
   "cell_type": "code",
   "execution_count": 13,
   "metadata": {},
   "outputs": [
    {
     "name": "stdout",
     "output_type": "stream",
     "text": [
      "XG BOOST:  0.632918418386\n"
     ]
    }
   ],
   "source": [
    "# XG Boost\n",
    "\n",
    "xgmodel = XGBRegressor(base_score=0.2, colsample_bylevel=1, colsample_bytree=1, gamma=0,\n",
    "       learning_rate=0.1, max_delta_step=0, max_depth=3,\n",
    "       min_child_weight=1, missing=None, n_estimators=110, nthread=-1,\n",
    "       objective='reg:gamma', reg_alpha=0, reg_lambda=1,\n",
    "       scale_pos_weight=1, seed=0, silent=True, subsample=1)\n",
    "xgmodel.fit(X_train1,Y_train1)\n",
    "\n",
    "print(\"XG BOOST: \",r2_score(Y_train2, xgmodel.predict(X_train2)))"
   ]
  },
  {
   "cell_type": "code",
   "execution_count": null,
   "metadata": {
    "collapsed": true
   },
   "outputs": [],
   "source": [
    "\n"
   ]
  },
  {
   "cell_type": "code",
   "execution_count": 14,
   "metadata": {
    "collapsed": true
   },
   "outputs": [],
   "source": [
    "#Gradient Boosting\n",
    "\n",
    "clf = GradientBoostingRegressor(n_estimators=100, learning_rate=0.1,max_depth=4, random_state=0, loss='lad').fit(x,y)\n",
    "\n"
   ]
  },
  {
   "cell_type": "code",
   "execution_count": 15,
   "metadata": {},
   "outputs": [
    {
     "data": {
      "text/plain": [
       "SVR(C=1.0, cache_size=200, coef0=0.0, degree=3, epsilon=0.1, gamma='auto',\n",
       "  kernel='rbf', max_iter=-1, shrinking=True, tol=0.001, verbose=False)"
      ]
     },
     "execution_count": 15,
     "metadata": {},
     "output_type": "execute_result"
    }
   ],
   "source": [
    "# Support Vector\n",
    "\n",
    "vectormach = svm.SVR(C=1.0, cache_size=200, coef0=0.0, degree=3, epsilon=0.1, gamma='auto',\n",
    "  kernel='rbf', max_iter=-1, shrinking=True, tol=0.001, verbose=False)\n",
    "vectormach.fit(X_train1, Y_train1) "
   ]
  },
  {
   "cell_type": "code",
   "execution_count": 16,
   "metadata": {},
   "outputs": [
    {
     "data": {
      "text/plain": [
       "SGDRegressor(alpha=0.0001, average=False, epsilon=0.1, eta0=0.01,\n",
       "       fit_intercept=True, l1_ratio=0.15, learning_rate='invscaling',\n",
       "       loss='squared_loss', n_iter=5, penalty='l2', power_t=0.25,\n",
       "       random_state=None, shuffle=True, verbose=0, warm_start=False)"
      ]
     },
     "execution_count": 16,
     "metadata": {},
     "output_type": "execute_result"
    }
   ],
   "source": [
    "#Stochastic Gradient Descent\n",
    "\n",
    "\n",
    "\n",
    "sgd = SGDRegressor(alpha=0.0001, average=False, epsilon=0.1, eta0=0.01,\n",
    "       fit_intercept=True, l1_ratio=0.15, learning_rate='invscaling',\n",
    "       loss='squared_loss', n_iter=5, penalty='l2', power_t=0.25,\n",
    "       random_state=None, shuffle=True, verbose=0, warm_start=False)\n",
    "sgd.fit(x,y)"
   ]
  },
  {
   "cell_type": "code",
   "execution_count": 17,
   "metadata": {},
   "outputs": [
    {
     "data": {
      "text/plain": [
       "KNeighborsRegressor(algorithm='auto', leaf_size=30, metric='minkowski',\n",
       "          metric_params=None, n_jobs=1, n_neighbors=40, p=2,\n",
       "          weights='uniform')"
      ]
     },
     "execution_count": 17,
     "metadata": {},
     "output_type": "execute_result"
    }
   ],
   "source": [
    "# Neighbors\n",
    "\n",
    "\n",
    "neigh = KNeighborsRegressor(n_neighbors=40)\n",
    "neigh.fit(X_train1, Y_train1)"
   ]
  },
  {
   "cell_type": "code",
   "execution_count": 21,
   "metadata": {
    "scrolled": true
   },
   "outputs": [
    {
     "ename": "NameError",
     "evalue": "name 'runJob' is not defined",
     "output_type": "error",
     "traceback": [
      "\u001b[0;31m---------------------------------------------------------------------------\u001b[0m",
      "\u001b[0;31mNameError\u001b[0m                                 Traceback (most recent call last)",
      "\u001b[0;32m<ipython-input-21-70a7f5ba4d78>\u001b[0m in \u001b[0;36m<module>\u001b[0;34m()\u001b[0m\n\u001b[0;32m----> 1\u001b[0;31m \u001b[0mpd\u001b[0m\u001b[0;34m.\u001b[0m\u001b[0mDataFrame\u001b[0m\u001b[0;34m(\u001b[0m\u001b[0mrunJob\u001b[0m\u001b[0;34m.\u001b[0m\u001b[0mhistory\u001b[0m\u001b[0;34m)\u001b[0m\u001b[0;34m.\u001b[0m\u001b[0mplot\u001b[0m\u001b[0;34m(\u001b[0m\u001b[0msecondary_y\u001b[0m\u001b[0;34m=\u001b[0m\u001b[0;34m'lr'\u001b[0m\u001b[0;34m,\u001b[0m \u001b[0mfigsize\u001b[0m\u001b[0;34m=\u001b[0m\u001b[0;34m(\u001b[0m\u001b[0;36m15\u001b[0m\u001b[0;34m,\u001b[0m\u001b[0;36m5\u001b[0m\u001b[0;34m)\u001b[0m\u001b[0;34m,\u001b[0m \u001b[0mlogy\u001b[0m\u001b[0;34m=\u001b[0m\u001b[0;32mTrue\u001b[0m\u001b[0;34m,\u001b[0m \u001b[0mgrid\u001b[0m\u001b[0;34m=\u001b[0m\u001b[0;32mFalse\u001b[0m\u001b[0;34m)\u001b[0m\u001b[0;34m;\u001b[0m\u001b[0;34m\u001b[0m\u001b[0m\n\u001b[0m\u001b[1;32m      2\u001b[0m \u001b[0mplt\u001b[0m\u001b[0;34m.\u001b[0m\u001b[0mshow\u001b[0m\u001b[0;34m(\u001b[0m\u001b[0;34m)\u001b[0m\u001b[0;34m;\u001b[0m\u001b[0;34m\u001b[0m\u001b[0m\n",
      "\u001b[0;31mNameError\u001b[0m: name 'runJob' is not defined"
     ]
    }
   ],
   "source": [
    "pd.DataFrame(runJob.history).plot(secondary_y='lr', figsize=(15,5), logy=True, grid=False);\n",
    "plt.show();"
   ]
  },
  {
   "cell_type": "code",
   "execution_count": 18,
   "metadata": {},
   "outputs": [
    {
     "name": "stdout",
     "output_type": "stream",
     "text": [
      "R^2 Values\n",
      "Neural Network:  -71.3569932917\n",
      "XG BOOST:  0.632918418386\n",
      "Stochastic Gradient:  0.63030552482\n",
      "Neighbors:  0.489638793632\n",
      "Support Vector Machine:  0.487945859128\n",
      "Gradient Boosting:  0.659119699149\n",
      "Random Forest:  0.620112424067\n",
      "Extra Trees Score:  0.221659373315\n"
     ]
    }
   ],
   "source": [
    "\n",
    "\n",
    "print(\"R^2 Values\\n\")\n",
    "print(\"Neural Network: \",r2_score(Y_train2, modelbasic.predict(X_train2)))\n",
    "print(\"XG BOOST: \",r2_score(Y_train2, xgmodel.predict(X_train2)))\n",
    "print(\"Stochastic Gradient: \",r2_score(Y_train2, sgd.predict(X_train2)))\n",
    "print(\"Neighbors: \",r2_score(Y_train2, neigh.predict(X_train2)))\n",
    "print(\"Support Vector Machine: \",r2_score(Y_train2, vectormach.predict(X_train2)))\n",
    "print(\"Gradient Boosting: \",r2_score(Y_train2,clf.predict(X_train2)))\n",
    "print(\"Random Forest: \",r2_score(Y_train2,forestry.predict(X_train2)))\n",
    "print(\"Extra Trees Score: \", r2_score(Y_train2,extraX.predict(X_train2)))"
   ]
  },
  {
   "cell_type": "code",
   "execution_count": 82,
   "metadata": {
    "collapsed": true
   },
   "outputs": [],
   "source": [
    "#Save Gradient Boosting\n",
    "\n",
    "pd.DataFrame(index=testOHE.index, data=clf.predict(testarr), columns=['y']).to_csv('submissionNickGradient6.csv')\n",
    "\n"
   ]
  },
  {
   "cell_type": "code",
   "execution_count": 289,
   "metadata": {
    "collapsed": true
   },
   "outputs": [],
   "source": [
    "# Save Neural Net\n",
    "\n",
    "pd.DataFrame(index=testOHE.index, data=modelbasic.predict(testarr), columns=['y']).to_csv('submissionNickNeural6.csv')\n"
   ]
  },
  {
   "cell_type": "code",
   "execution_count": 245,
   "metadata": {
    "collapsed": true
   },
   "outputs": [],
   "source": [
    "# Save Random Forest\n",
    "\n",
    "pd.DataFrame(index=testOHE.index, data=forestry.predict(testarr), columns=['y']).to_csv('Forestry9.csv')\n"
   ]
  },
  {
   "cell_type": "code",
   "execution_count": 29,
   "metadata": {
    "collapsed": true
   },
   "outputs": [],
   "source": [
    "# Save SGD\n",
    "\n",
    "pd.DataFrame(index=testOHE.index, data=sgd.predict(testarr), columns=['y']).to_csv('sgd.csv')\n"
   ]
  },
  {
   "cell_type": "code",
   "execution_count": 51,
   "metadata": {
    "collapsed": true
   },
   "outputs": [],
   "source": [
    "# XG BOOST BABY\n",
    "\n",
    "pd.DataFrame(index=testOHE.index, data=xgmodel.predict(testarr), columns=['y']).to_csv('xg3.csv')\n"
   ]
  },
  {
   "cell_type": "code",
   "execution_count": 14,
   "metadata": {
    "collapsed": true
   },
   "outputs": [],
   "source": [
    "# Below is Hyper-Parameter Training with GridSearchCV and other methods"
   ]
  },
  {
   "cell_type": "code",
   "execution_count": null,
   "metadata": {
    "collapsed": true
   },
   "outputs": [],
   "source": [
    "#Hyper Parameter 1 for Random Forest\n",
    "\n",
    "number = [100,120,130,140,150,160,170,180,190,200,210,230,240,250,260,270,280,290,300]\n",
    "\n",
    "for i in range(0,len(number)):\n",
    "    forestry = RandomForestRegressor(n_estimators=number[i],max_features='auto',max_depth=9,n_jobs=2,min_samples_leaf=4 )\n",
    "    forestry.fit(X_train1,Y_train1)\n",
    "    print(\"Random Forest Score with \", number[i], \"estimators: \", forestry.score(X_train2,Y_train2))"
   ]
  },
  {
   "cell_type": "code",
   "execution_count": null,
   "metadata": {},
   "outputs": [],
   "source": [
    "# Hyper Parameter Test for Gradient Boosting\n",
    "\n",
    "\n",
    "\n",
    "paramGB = {'n_estimators':list(range(100,150,10)),'max_depth':list(range(1,5))}\n",
    "\n",
    "\n",
    "hyper = GradientBoostingRegressor()\n",
    "\n",
    "hyperGB = GridSearchCV(hyper,paramGB)\n",
    "\n",
    "hyperGB.fit(X_train1,Y_train1)\n",
    "\n",
    "print(hyperGB)"
   ]
  },
  {
   "cell_type": "code",
   "execution_count": null,
   "metadata": {},
   "outputs": [],
   "source": []
  },
  {
   "cell_type": "code",
   "execution_count": null,
   "metadata": {
    "collapsed": true
   },
   "outputs": [],
   "source": []
  },
  {
   "cell_type": "code",
   "execution_count": null,
   "metadata": {},
   "outputs": [],
   "source": []
  },
  {
   "cell_type": "code",
   "execution_count": null,
   "metadata": {},
   "outputs": [],
   "source": [
    "# R^2 Score from the Hyper Parameter Sets\n",
    "\n",
    "print(\"Hyper Gradient Boosting: \",r2_score(Y_train2,hyperGB.predict(X_train2)))"
   ]
  },
  {
   "cell_type": "code",
   "execution_count": null,
   "metadata": {
    "collapsed": true
   },
   "outputs": [],
   "source": []
  }
 ],
 "metadata": {
  "kernelspec": {
   "display_name": "Python 3",
   "language": "python",
   "name": "python3"
  },
  "language_info": {
   "codemirror_mode": {
    "name": "ipython",
    "version": 3
   },
   "file_extension": ".py",
   "mimetype": "text/x-python",
   "name": "python",
   "nbconvert_exporter": "python",
   "pygments_lexer": "ipython3",
   "version": "3.6.1"
  }
 },
 "nbformat": 4,
 "nbformat_minor": 2
}
