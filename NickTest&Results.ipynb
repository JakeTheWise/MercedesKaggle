{
 "cells": [
  {
   "cell_type": "code",
   "execution_count": 33,
   "metadata": {},
   "outputs": [],
   "source": [
    "import keras\n",
    "import pickle\n",
    "import pandas as pd\n",
    "from keras.models import Sequential\n",
    "#from keras.metrics import \n",
    "import keras\n",
    "import keras.preprocessing.text\n",
    "from __future__ import absolute_import\n",
    "from __future__ import division\n",
    "\n",
    "\n",
    "\n",
    "import numpy\n",
    "import pandas\n",
    "from keras.models import Sequential\n",
    "from keras.layers import Dense\n",
    "from keras.wrappers.scikit_learn import KerasRegressor\n",
    "from sklearn.model_selection import cross_val_score\n",
    "from sklearn.model_selection import KFold\n",
    "from sklearn.preprocessing import StandardScaler\n",
    "from sklearn.pipeline import Pipeline\n",
    "from sklearn.metrics import r2_score\n",
    "\n",
    "import numpy\n",
    "import pandas\n",
    "from keras.models import Sequential\n",
    "from keras.layers import Dense\n",
    "from keras.wrappers.scikit_learn import KerasRegressor\n",
    "from sklearn.model_selection import cross_val_score\n",
    "from sklearn.model_selection import KFold\n",
    "from sklearn.preprocessing import StandardScaler\n",
    "from sklearn.pipeline import Pipeline\n",
    "from sklearn.ensemble import GradientBoostingRegressor\n",
    "\n",
    "from keras.preprocessing import sequence\n",
    "from keras.models import Sequential\n",
    "from keras.layers.core import Dense, Activation\n",
    "from keras.layers.embeddings import Embedding\n",
    "from keras.layers.recurrent import LSTM\n",
    "\n",
    "import string\n",
    "import sys\n",
    "import numpy as np\n",
    "import pandas as pd\n",
    "from six.moves import range\n",
    "from six.moves import zip\n",
    "import matplotlib.pyplot as plt\n",
    "import warnings\n",
    "\n",
    "from sklearn.ensemble import RandomForestRegressor, AdaBoostRegressor, GradientBoostingRegressor\n",
    "from sklearn.neural_network import MLPRegressor\n",
    "from sklearn.svm import SVR, LinearSVR\n",
    "from sklearn.metrics import r2_score\n",
    "from sklearn.preprocessing import OneHotEncoder\n",
    "from sklearn.model_selection import train_test_split\n",
    "\n",
    "from sklearn import tree"
   ]
  },
  {
   "cell_type": "code",
   "execution_count": 2,
   "metadata": {
    "collapsed": true
   },
   "outputs": [],
   "source": [
    "file = open(\"data/noConst_and_OHE.p\",\"rb\")\n",
    "originaldata = pd.read_csv('data/train.csv', index_col='ID')\n",
    "testdata = pd.read_csv('data/test.csv',index_col='ID')"
   ]
  },
  {
   "cell_type": "code",
   "execution_count": 3,
   "metadata": {},
   "outputs": [
    {
     "name": "stdout",
     "output_type": "stream",
     "text": [
      "        y X0 X1  X2 X3 X4 X5 X6 X8  X10  ...   X375  X376  X377  X378  X379  \\\n",
      "ID                                       ...                                  \n",
      "6   88.53  k  t  av  e  d  y  l  o    0  ...      1     0     0     0     0   \n",
      "\n",
      "    X380  X382  X383  X384  X385  \n",
      "ID                                \n",
      "6      0     0     0     0     0  \n",
      "\n",
      "[1 rows x 377 columns]\n"
     ]
    }
   ],
   "source": [
    "print(originaldata.iloc[[1]])"
   ]
  },
  {
   "cell_type": "code",
   "execution_count": 4,
   "metadata": {
    "collapsed": true
   },
   "outputs": [],
   "source": [
    "train = pd.read_csv('data/train.csv', index_col='ID')\n",
    "y = train['y']\n",
    "train.drop('y', axis=1, inplace=True)\n",
    "test = pd.read_csv('data/test.csv', index_col='ID')\n",
    "constcols_train = list(train.loc[:,train.apply(lambda i: len(i.unique()) == 1)].columns)\n",
    "goodcols = list(set(train.columns).intersection(set(test.columns)) - set(constcols_train))\n",
    "train = train[goodcols]\n",
    "test = test[goodcols]\n",
    "tot = pd.concat([train, test]).sort_index()\n",
    "enumcols = list(tot.select_dtypes(include=['object']).columns)\n",
    "bincols = list(tot.select_dtypes(include=['int64']).columns)\n",
    "\n",
    "totOHE = pd.get_dummies(tot, columns=enumcols)\n",
    "trainOHE = totOHE.loc[train.index]\n",
    "\n",
    "testOHE = totOHE.loc[test.index]\n"
   ]
  },
  {
   "cell_type": "code",
   "execution_count": 5,
   "metadata": {},
   "outputs": [
    {
     "name": "stdout",
     "output_type": "stream",
     "text": [
      "(4209, 567)\n",
      "(4209, 567)\n"
     ]
    }
   ],
   "source": [
    "print(testOHE.shape)\n",
    "print(trainOHE.shape)"
   ]
  },
  {
   "cell_type": "code",
   "execution_count": 6,
   "metadata": {},
   "outputs": [
    {
     "name": "stdout",
     "output_type": "stream",
     "text": [
      "      X295  X42  X83  X231  X19  X288  X115  X254  X357  X372  ...   X6_c  \\\n",
      "ID                                                             ...          \n",
      "1        0    0    0     0    0     0     0     0     0     0  ...      0   \n",
      "2        0    0    0     0    1     0     0     0     0     0  ...      0   \n",
      "3        0    0    0     0    0     0     0     0     0     0  ...      0   \n",
      "4        0    0    0     0    0     0     0     0     0     0  ...      0   \n",
      "5        0    0    0     0    0     0     0     0     0     0  ...      0   \n",
      "8        0    0    0     0    1     0     1     0     0     0  ...      0   \n",
      "10       0    0    0     0    0     0     0     0     0     0  ...      0   \n",
      "11       0    0    0     0    0     0     0     0     0     0  ...      0   \n",
      "12       0    0    0     0    0     0     0     0     0     0  ...      0   \n",
      "14       0    0    0     0    0     0     0     0     0     0  ...      0   \n",
      "15       0    0    0     0    0     0     0     0     0     0  ...      0   \n",
      "16       0    0    0     0    0     0     1     0     0     0  ...      0   \n",
      "17       0    0    0     0    0     0     1     0     0     0  ...      0   \n",
      "19       0    0    0     0    0     0     0     0     0     0  ...      0   \n",
      "20       0    0    0     0    0     0     0     0     0     0  ...      0   \n",
      "21       0    0    0     0    0     0     1     0     0     0  ...      0   \n",
      "22       0    0    0     0    0     0     0     0     0     0  ...      0   \n",
      "23       0    0    0     0    0     0     1     0     0     0  ...      0   \n",
      "26       0    0    0     0    1     0     0     0     0     0  ...      0   \n",
      "28       0    0    0     0    0     0     1     0     0     0  ...      0   \n",
      "29       0    0    0     0    0     0     1     0     0     0  ...      0   \n",
      "33       0    0    0     0    0     0     1     0     0     0  ...      0   \n",
      "35       0    0    0     0    1     0     0     0     0     0  ...      0   \n",
      "41       0    0    0     0    0     0     1     0     0     0  ...      0   \n",
      "42       0    0    0     0    1     0     1     0     0     0  ...      0   \n",
      "43       0    0    0     0    0     0     0     0     0     0  ...      0   \n",
      "45       0    0    0     0    0     0     1     0     0     0  ...      0   \n",
      "46       0    0    0     0    0     0     1     0     0     0  ...      0   \n",
      "51       0    0    0     0    0     0     0     0     0     0  ...      0   \n",
      "53       0    0    0     0    0     0     0     0     0     0  ...      0   \n",
      "...    ...  ...  ...   ...  ...   ...   ...   ...   ...   ...  ...    ...   \n",
      "8361     0    0    0     0    0     0     0     0     0     0  ...      0   \n",
      "8363     0    0    0     0    0     0     1     0     0     0  ...      0   \n",
      "8364     0    0    0     0    0     0     0     0     0     0  ...      0   \n",
      "8365     0    0    0     0    0     0     0     0     0     0  ...      0   \n",
      "8366     0    0    0     0    0     0     1     0     0     0  ...      0   \n",
      "8370     0    0    0     0    0     0     0     0     0     0  ...      0   \n",
      "8372     0    0    0     0    0     0     0     0     0     0  ...      0   \n",
      "8376     0    0    0     0    0     0     0     0     0     0  ...      0   \n",
      "8377     0    0    0     0    0     0     0     0     0     0  ...      0   \n",
      "8379     0    0    0     0    0     0     0     0     0     0  ...      0   \n",
      "8380     0    0    0     0    0     0     1     0     0     0  ...      0   \n",
      "8381     0    0    0     0    0     0     0     0     0     0  ...      0   \n",
      "8386     0    0    0     0    1     0     1     0     0     0  ...      0   \n",
      "8388     0    0    0     0    0     0     1     0     0     0  ...      0   \n",
      "8389     0    0    0     0    0     0     0     0     0     0  ...      0   \n",
      "8391     0    0    0     0    0     0     0     0     0     0  ...      0   \n",
      "8394     0    0    0     0    0     0     0     0     0     0  ...      0   \n",
      "8396     0    0    0     0    0     0     1     0     0     0  ...      0   \n",
      "8398     0    0    0     0    0     0     1     0     0     0  ...      0   \n",
      "8400     0    0    0     0    0     0     0     0     0     0  ...      0   \n",
      "8401     0    0    0     0    0     0     1     0     0     0  ...      0   \n",
      "8404     0    0    0     0    0     0     1     0     0     0  ...      0   \n",
      "8407     0    0    0     0    0     0     0     0     0     0  ...      0   \n",
      "8408     0    0    0     0    0     0     0     0     0     0  ...      0   \n",
      "8409     0    0    0     0    0     0     0     0     0     0  ...      0   \n",
      "8410     0    0    0     0    0     0     1     0     0     0  ...      0   \n",
      "8411     0    0    0     0    1     0     0     0     0     0  ...      0   \n",
      "8413     0    0    0     0    0     0     1     0     0     0  ...      0   \n",
      "8414     0    0    0     0    0     0     0     0     0     0  ...      1   \n",
      "8416     0    0    0     0    1     0     0     0     0     0  ...      0   \n",
      "\n",
      "      X6_d  X6_e  X6_f  X6_g  X6_h  X6_i  X6_j  X6_k  X6_l  \n",
      "ID                                                          \n",
      "1        0     0     0     0     0     0     0     0     0  \n",
      "2        0     0     0     1     0     0     0     0     0  \n",
      "3        0     0     0     0     0     0     1     0     0  \n",
      "4        0     0     0     0     0     0     0     0     1  \n",
      "5        0     0     0     0     0     1     0     0     0  \n",
      "8        0     0     0     1     0     0     0     0     0  \n",
      "10       1     0     0     0     0     0     0     0     0  \n",
      "11       1     0     0     0     0     0     0     0     0  \n",
      "12       0     0     0     0     0     0     1     0     0  \n",
      "14       0     0     1     0     0     0     0     0     0  \n",
      "15       1     0     0     0     0     0     0     0     0  \n",
      "16       0     0     0     0     0     0     0     0     1  \n",
      "17       0     0     0     0     1     0     0     0     0  \n",
      "19       0     0     0     1     0     0     0     0     0  \n",
      "20       0     0     0     0     0     0     0     0     1  \n",
      "21       0     0     0     0     1     0     0     0     0  \n",
      "22       1     0     0     0     0     0     0     0     0  \n",
      "23       0     0     0     0     1     0     0     0     0  \n",
      "26       0     0     0     0     0     0     0     0     1  \n",
      "28       1     0     0     0     0     0     0     0     0  \n",
      "29       0     0     0     0     1     0     0     0     0  \n",
      "33       0     0     0     0     1     0     0     0     0  \n",
      "35       0     0     0     0     0     0     1     0     0  \n",
      "41       0     0     0     0     1     0     0     0     0  \n",
      "42       0     0     0     1     0     0     0     0     0  \n",
      "43       0     0     0     0     0     0     1     0     0  \n",
      "45       0     0     0     1     0     0     0     0     0  \n",
      "46       0     0     0     0     0     0     0     0     1  \n",
      "51       0     0     0     1     0     0     0     0     0  \n",
      "53       0     0     0     1     0     0     0     0     0  \n",
      "...    ...   ...   ...   ...   ...   ...   ...   ...   ...  \n",
      "8361     0     0     0     1     0     0     0     0     0  \n",
      "8363     0     0     0     0     0     1     0     0     0  \n",
      "8364     0     0     0     0     0     0     1     0     0  \n",
      "8365     1     0     0     0     0     0     0     0     0  \n",
      "8366     0     0     0     0     0     0     0     0     1  \n",
      "8370     0     0     0     0     0     0     1     0     0  \n",
      "8372     0     0     0     0     0     1     0     0     0  \n",
      "8376     0     0     0     0     0     1     0     0     0  \n",
      "8377     0     0     0     0     0     0     1     0     0  \n",
      "8379     1     0     0     0     0     0     0     0     0  \n",
      "8380     1     0     0     0     0     0     0     0     0  \n",
      "8381     0     0     0     1     0     0     0     0     0  \n",
      "8386     0     0     0     0     0     0     1     0     0  \n",
      "8388     0     0     0     0     0     0     0     0     1  \n",
      "8389     0     0     0     0     0     0     1     0     0  \n",
      "8391     0     0     0     1     0     0     0     0     0  \n",
      "8394     0     0     0     0     0     0     1     0     0  \n",
      "8396     0     0     0     0     0     0     1     0     0  \n",
      "8398     0     0     0     1     0     0     0     0     0  \n",
      "8400     0     0     0     0     0     0     1     0     0  \n",
      "8401     1     0     0     0     0     0     0     0     0  \n",
      "8404     0     0     0     0     0     0     0     0     1  \n",
      "8407     1     0     0     0     0     0     0     0     0  \n",
      "8408     0     0     0     0     0     0     0     0     1  \n",
      "8409     0     0     0     0     0     0     1     0     0  \n",
      "8410     0     0     0     0     0     0     1     0     0  \n",
      "8411     0     0     0     0     0     0     1     0     0  \n",
      "8413     1     0     0     0     0     0     0     0     0  \n",
      "8414     0     0     0     0     0     0     0     0     0  \n",
      "8416     0     0     0     1     0     0     0     0     0  \n",
      "\n",
      "[4209 rows x 567 columns]\n"
     ]
    }
   ],
   "source": [
    "print(testOHE)"
   ]
  },
  {
   "cell_type": "code",
   "execution_count": 7,
   "metadata": {
    "scrolled": true
   },
   "outputs": [
    {
     "name": "stdout",
     "output_type": "stream",
     "text": [
      "      X295  X42  X83  X231  X19  X288  X115  X254  X357  X372  ...   X6_c  \\\n",
      "ID                                                             ...          \n",
      "0        0    0    0     0    0     0     0     0     0     0  ...      0   \n",
      "6        0    0    0     0    0     0     0     0     0     0  ...      0   \n",
      "7        0    0    0     0    0     0     0     0     0     0  ...      0   \n",
      "9        0    0    0     0    0     0     0     0     0     1  ...      0   \n",
      "13       0    0    0     0    0     0     0     0     0     0  ...      0   \n",
      "18       0    0    0     0    0     0     0     0     0     0  ...      0   \n",
      "24       0    0    0     0    0     0     1     0     0     0  ...      0   \n",
      "25       0    0    0     0    0     0     0     0     0     0  ...      0   \n",
      "27       0    0    0     0    0     0     0     0     0     0  ...      0   \n",
      "30       0    0    0     0    0     0     0     0     0     0  ...      0   \n",
      "31       0    0    0     0    0     0     0     0     0     0  ...      0   \n",
      "32       0    0    0     0    0     0     1     0     0     0  ...      0   \n",
      "34       0    0    0     0    1     0     1     0     0     0  ...      0   \n",
      "36       0    0    0     0    0     0     1     0     0     0  ...      0   \n",
      "37       0    0    0     0    0     0     0     0     0     0  ...      0   \n",
      "38       0    0    0     0    0     0     0     0     0     0  ...      0   \n",
      "39       0    0    0     0    0     0     1     0     0     0  ...      0   \n",
      "40       0    0    0     0    0     0     1     0     0     0  ...      1   \n",
      "44       0    0    0     0    0     0     0     0     0     0  ...      0   \n",
      "47       0    0    0     0    0     0     1     0     0     0  ...      0   \n",
      "48       0    0    0     0    0     0     0     0     0     0  ...      0   \n",
      "49       0    0    0     0    0     0     0     0     0     0  ...      0   \n",
      "50       0    0    0     0    0     0     0     0     0     0  ...      0   \n",
      "52       0    0    0     0    0     0     0     0     0     0  ...      0   \n",
      "54       0    0    0     0    0     0     1     0     0     0  ...      0   \n",
      "60       0    0    0     0    0     0     0     0     0     0  ...      0   \n",
      "61       0    0    0     0    0     0     1     0     0     0  ...      0   \n",
      "62       0    0    0     0    0     0     0     0     0     0  ...      0   \n",
      "66       0    0    0     0    0     0     0     0     0     0  ...      1   \n",
      "67       0    0    0     0    0     0     0     0     0     0  ...      0   \n",
      "...    ...  ...  ...   ...  ...   ...   ...   ...   ...   ...  ...    ...   \n",
      "8354     0    0    0     0    0     0     1     0     0     0  ...      0   \n",
      "8356     0    0    0     0    1     0     0     0     0     0  ...      0   \n",
      "8357     0    0    0     0    0     0     1     0     0     0  ...      0   \n",
      "8362     0    0    0     0    0     0     0     0     0     0  ...      0   \n",
      "8367     0    0    0     0    0     0     0     0     0     0  ...      0   \n",
      "8368     0    0    0     0    0     0     0     0     0     0  ...      0   \n",
      "8369     0    0    0     0    0     0     0     0     0     0  ...      0   \n",
      "8371     0    0    0     0    0     0     0     0     0     0  ...      0   \n",
      "8373     0    0    0     0    0     0     1     0     0     0  ...      0   \n",
      "8374     0    0    0     0    0     0     0     0     0     0  ...      0   \n",
      "8375     0    0    0     0    0     0     1     0     0     0  ...      0   \n",
      "8378     0    0    0     0    0     0     1     0     0     0  ...      0   \n",
      "8382     0    0    0     0    0     0     0     0     0     0  ...      0   \n",
      "8383     0    0    0     0    0     0     1     0     0     0  ...      0   \n",
      "8384     0    0    0     0    0     0     0     0     0     0  ...      0   \n",
      "8385     0    0    0     0    0     0     0     0     0     0  ...      0   \n",
      "8387     0    0    0     0    0     0     0     0     0     0  ...      0   \n",
      "8390     0    0    0     0    0     0     1     0     0     0  ...      0   \n",
      "8392     0    0    0     0    0     0     0     0     0     0  ...      0   \n",
      "8393     0    0    0     0    0     0     0     0     0     0  ...      0   \n",
      "8395     0    0    0     0    0     0     0     0     0     0  ...      0   \n",
      "8397     0    0    0     0    0     0     0     0     0     0  ...      0   \n",
      "8399     0    0    0     0    0     0     0     0     0     0  ...      0   \n",
      "8402     0    0    0     0    0     0     0     0     0     0  ...      0   \n",
      "8403     0    0    0     0    0     0     0     0     0     0  ...      0   \n",
      "8405     0    0    0     0    0     0     0     0     0     0  ...      0   \n",
      "8406     0    0    0     0    0     0     0     0     0     0  ...      0   \n",
      "8412     0    0    0     0    0     0     0     0     0     0  ...      0   \n",
      "8415     0    0    0     0    0     0     1     0     0     0  ...      0   \n",
      "8417     0    0    0     0    0     0     0     0     0     0  ...      0   \n",
      "\n",
      "      X6_d  X6_e  X6_f  X6_g  X6_h  X6_i  X6_j  X6_k  X6_l  \n",
      "ID                                                          \n",
      "0        0     0     0     0     0     0     1     0     0  \n",
      "6        0     0     0     0     0     0     0     0     1  \n",
      "7        0     0     0     0     0     0     1     0     0  \n",
      "9        0     0     0     0     0     0     0     0     1  \n",
      "13       1     0     0     0     0     0     0     0     0  \n",
      "18       0     0     0     0     1     0     0     0     0  \n",
      "24       0     0     0     0     1     0     0     0     0  \n",
      "25       0     0     0     0     0     0     1     0     0  \n",
      "27       0     0     0     0     0     1     0     0     0  \n",
      "30       0     0     0     0     0     0     0     0     0  \n",
      "31       0     0     0     0     1     0     0     0     0  \n",
      "32       0     0     0     0     1     0     0     0     0  \n",
      "34       0     0     0     1     0     0     0     0     0  \n",
      "36       0     0     0     0     1     0     0     0     0  \n",
      "37       0     0     0     1     0     0     0     0     0  \n",
      "38       1     0     0     0     0     0     0     0     0  \n",
      "39       0     0     0     0     1     0     0     0     0  \n",
      "40       0     0     0     0     0     0     0     0     0  \n",
      "44       1     0     0     0     0     0     0     0     0  \n",
      "47       0     0     0     0     0     1     0     0     0  \n",
      "48       0     0     0     0     0     0     1     0     0  \n",
      "49       0     0     0     0     0     0     1     0     0  \n",
      "50       0     0     0     0     0     0     1     0     0  \n",
      "52       0     0     0     0     0     0     1     0     0  \n",
      "54       1     0     0     0     0     0     0     0     0  \n",
      "60       0     0     0     0     0     1     0     0     0  \n",
      "61       0     0     0     1     0     0     0     0     0  \n",
      "62       1     0     0     0     0     0     0     0     0  \n",
      "66       0     0     0     0     0     0     0     0     0  \n",
      "67       0     0     0     0     0     0     1     0     0  \n",
      "...    ...   ...   ...   ...   ...   ...   ...   ...   ...  \n",
      "8354     0     0     0     0     0     0     0     0     1  \n",
      "8356     0     0     0     0     0     0     0     0     1  \n",
      "8357     0     0     0     1     0     0     0     0     0  \n",
      "8362     0     0     0     1     0     0     0     0     0  \n",
      "8367     0     0     0     0     0     0     0     0     1  \n",
      "8368     1     0     0     0     0     0     0     0     0  \n",
      "8369     0     0     0     1     0     0     0     0     0  \n",
      "8371     0     0     0     0     0     0     1     0     0  \n",
      "8373     0     0     0     0     0     0     1     0     0  \n",
      "8374     1     0     0     0     0     0     0     0     0  \n",
      "8375     1     0     0     0     0     0     0     0     0  \n",
      "8378     0     0     0     0     0     0     1     0     0  \n",
      "8382     1     0     0     0     0     0     0     0     0  \n",
      "8383     0     0     0     0     0     0     1     0     0  \n",
      "8384     1     0     0     0     0     0     0     0     0  \n",
      "8385     0     0     0     0     0     1     0     0     0  \n",
      "8387     0     0     0     1     0     0     0     0     0  \n",
      "8390     0     0     0     0     0     0     0     0     1  \n",
      "8392     1     0     0     0     0     0     0     0     0  \n",
      "8393     0     0     0     0     1     0     0     0     0  \n",
      "8395     0     0     0     0     0     0     0     0     1  \n",
      "8397     0     0     0     0     0     1     0     0     0  \n",
      "8399     0     0     0     0     1     0     0     0     0  \n",
      "8402     1     0     0     0     0     0     0     0     0  \n",
      "8403     0     0     0     0     0     0     0     0     0  \n",
      "8405     1     0     0     0     0     0     0     0     0  \n",
      "8406     0     0     0     0     1     0     0     0     0  \n",
      "8412     0     0     0     1     0     0     0     0     0  \n",
      "8415     0     0     0     0     0     0     0     0     1  \n",
      "8417     0     0     0     1     0     0     0     0     0  \n",
      "\n",
      "[4209 rows x 567 columns]\n"
     ]
    }
   ],
   "source": [
    "print(trainOHE)"
   ]
  },
  {
   "cell_type": "code",
   "execution_count": null,
   "metadata": {},
   "outputs": [],
   "source": []
  },
  {
   "cell_type": "code",
   "execution_count": 8,
   "metadata": {
    "collapsed": true
   },
   "outputs": [],
   "source": [
    "matarr  = trainOHE.as_matrix()\n",
    "testarr = testOHE.as_matrix()"
   ]
  },
  {
   "cell_type": "code",
   "execution_count": null,
   "metadata": {},
   "outputs": [],
   "source": []
  },
  {
   "cell_type": "code",
   "execution_count": 11,
   "metadata": {},
   "outputs": [
    {
     "data": {
      "text/plain": [
       "(4209, 567)"
      ]
     },
     "execution_count": 11,
     "metadata": {},
     "output_type": "execute_result"
    }
   ],
   "source": [
    "matarr.shape"
   ]
  },
  {
   "cell_type": "code",
   "execution_count": 12,
   "metadata": {
    "collapsed": true
   },
   "outputs": [],
   "source": [
    "Input_Length = len(trainOHE.T) "
   ]
  },
  {
   "cell_type": "code",
   "execution_count": 13,
   "metadata": {},
   "outputs": [
    {
     "name": "stdout",
     "output_type": "stream",
     "text": [
      "567\n"
     ]
    }
   ],
   "source": [
    "print(Input_Length)"
   ]
  },
  {
   "cell_type": "code",
   "execution_count": 14,
   "metadata": {
    "collapsed": true
   },
   "outputs": [],
   "source": [
    "X_train1 = matarr[:3000,:]\n",
    "Y_train1 = y[:3000]\n",
    "X_train2 = matarr[3000:,:]\n",
    "Y_train2 = y[3000:]\n",
    "x = matarr\n",
    "y = y"
   ]
  },
  {
   "cell_type": "code",
   "execution_count": 15,
   "metadata": {},
   "outputs": [
    {
     "name": "stdout",
     "output_type": "stream",
     "text": [
      "(3000, 567)\n",
      "(1209, 567)\n"
     ]
    }
   ],
   "source": [
    "print(X_train1.shape)\n",
    "print(X_train2.shape)\n"
   ]
  },
  {
   "cell_type": "code",
   "execution_count": null,
   "metadata": {},
   "outputs": [],
   "source": []
  },
  {
   "cell_type": "code",
   "execution_count": 37,
   "metadata": {
    "collapsed": true
   },
   "outputs": [],
   "source": [
    "#basic model\n",
    "\n",
    "modelbasic = Sequential()\n",
    "modelbasic.add(Dense(Input_Length,input_dim=Input_Length,kernel_initializer='normal', activation='relu'))\n",
    "modelbasic.add(Dense(400, kernel_initializer='normal', activation='relu'))\n",
    "modelbasic.add(Dense(500, kernel_initializer='normal', activation='relu'))\n",
    "modelbasic.add(Dense(1))\n",
    "\n",
    "\n",
    "modelbasic.compile(loss='mean_absolute_error', optimizer='adam')"
   ]
  },
  {
   "cell_type": "code",
   "execution_count": 38,
   "metadata": {
    "collapsed": true
   },
   "outputs": [],
   "source": [
    "#function model\n",
    "\n",
    "def baseline_model():\n",
    "    # create model\n",
    "    model = Sequential()\n",
    "    model.add(Dense(13, input_dim=13, kernel_initializer='normal', activation='relu'))\n",
    "    model.add(Dense(1, kernel_initializer='normal',dropout=0.2))\n",
    "    # Compile model\n",
    "    model.compile(loss='mean_squared_error', optimizer='adam')\n",
    "    return model"
   ]
  },
  {
   "cell_type": "code",
   "execution_count": 39,
   "metadata": {},
   "outputs": [
    {
     "name": "stdout",
     "output_type": "stream",
     "text": [
      "Epoch 1/10\n",
      "3000/3000 [==============================] - 22s - loss: 10.2022    \n",
      "Epoch 2/10\n",
      "3000/3000 [==============================] - 22s - loss: 7.9098    \n",
      "Epoch 3/10\n",
      "3000/3000 [==============================] - 22s - loss: 7.1786    \n",
      "Epoch 4/10\n",
      "3000/3000 [==============================] - 22s - loss: 6.8250    \n",
      "Epoch 5/10\n",
      "3000/3000 [==============================] - 21s - loss: 6.5607    \n",
      "Epoch 6/10\n",
      "3000/3000 [==============================] - 22s - loss: 6.4534    \n",
      "Epoch 7/10\n",
      "3000/3000 [==============================] - 21s - loss: 6.3280    \n",
      "Epoch 8/10\n",
      "3000/3000 [==============================] - 24s - loss: 6.2577    \n",
      "Epoch 9/10\n",
      "3000/3000 [==============================] - 24s - loss: 6.1308    \n",
      "Epoch 10/10\n",
      "3000/3000 [==============================] - 22s - loss: 5.9274    \n"
     ]
    }
   ],
   "source": [
    "runJob = modelbasic.fit(X_train1, Y_train1, batch_size=1, epochs=10, verbose=1, shuffle=False)"
   ]
  },
  {
   "cell_type": "code",
   "execution_count": 23,
   "metadata": {
    "collapsed": true
   },
   "outputs": [],
   "source": [
    "seed = 7\n",
    "numpy.random.seed(seed)\n",
    "# evaluate model with standardized dataset\n",
    "estimator = KerasRegressor(build_fn=baseline_model, nb_epoch=100, batch_size=5, verbose=0)"
   ]
  },
  {
   "cell_type": "code",
   "execution_count": null,
   "metadata": {
    "collapsed": true
   },
   "outputs": [],
   "source": []
  },
  {
   "cell_type": "code",
   "execution_count": 34,
   "metadata": {},
   "outputs": [
    {
     "ename": "NameError",
     "evalue": "name 'X_train' is not defined",
     "output_type": "error",
     "traceback": [
      "\u001b[0;31m---------------------------------------------------------------------------\u001b[0m",
      "\u001b[0;31mNameError\u001b[0m                                 Traceback (most recent call last)",
      "\u001b[0;32m<ipython-input-34-09f6a17acbc8>\u001b[0m in \u001b[0;36m<module>\u001b[0;34m()\u001b[0m\n\u001b[0;32m----> 1\u001b[0;31m \u001b[0mclf\u001b[0m \u001b[0;34m=\u001b[0m \u001b[0mGradientBoostingRegressor\u001b[0m\u001b[0;34m(\u001b[0m\u001b[0mn_estimators\u001b[0m\u001b[0;34m=\u001b[0m\u001b[0;36m100\u001b[0m\u001b[0;34m,\u001b[0m \u001b[0mlearning_rate\u001b[0m\u001b[0;34m=\u001b[0m\u001b[0;36m0.1\u001b[0m\u001b[0;34m,\u001b[0m\u001b[0mmax_depth\u001b[0m\u001b[0;34m=\u001b[0m\u001b[0;36m1\u001b[0m\u001b[0;34m,\u001b[0m \u001b[0mrandom_state\u001b[0m\u001b[0;34m=\u001b[0m\u001b[0;36m0\u001b[0m\u001b[0;34m,\u001b[0m \u001b[0mloss\u001b[0m\u001b[0;34m=\u001b[0m\u001b[0;34m'ls'\u001b[0m\u001b[0;34m)\u001b[0m\u001b[0;34m.\u001b[0m\u001b[0mfit\u001b[0m\u001b[0;34m(\u001b[0m\u001b[0mX_train\u001b[0m\u001b[0;34m,\u001b[0m \u001b[0my_train\u001b[0m\u001b[0;34m)\u001b[0m\u001b[0;34m\u001b[0m\u001b[0m\n\u001b[0m\u001b[1;32m      2\u001b[0m \u001b[0;34m\u001b[0m\u001b[0m\n",
      "\u001b[0;31mNameError\u001b[0m: name 'X_train' is not defined"
     ]
    }
   ],
   "source": [
    "clf = GradientBoostingRegressor(n_estimators=100, learning_rate=0.1,max_depth=1, random_state=0, loss='ls').fit(X_train, y_train)\n",
    "\n"
   ]
  },
  {
   "cell_type": "code",
   "execution_count": 40,
   "metadata": {},
   "outputs": [
    {
     "data": {
      "image/png": "[encoded data removed]",
      "text/plain": [
       "<matplotlib.figure.Figure at 0x7ffb3c9b1b70>"
      ]
     },
     "metadata": {},
     "output_type": "display_data"
    }
   ],
   "source": [
    "pd.DataFrame(runJob.history).plot(secondary_y='lr', figsize=(15,5), logy=True, grid=False);\n",
    "plt.show();"
   ]
  },
  {
   "cell_type": "code",
   "execution_count": 41,
   "metadata": {},
   "outputs": [
    {
     "data": {
      "text/plain": [
       "0.57251312249645858"
      ]
     },
     "execution_count": 41,
     "metadata": {},
     "output_type": "execute_result"
    }
   ],
   "source": [
    "r2_score(Y_train2, modelbasic.predict(X_train2))"
   ]
  },
  {
   "cell_type": "code",
   "execution_count": 42,
   "metadata": {
    "collapsed": true
   },
   "outputs": [],
   "source": [
    "pd.DataFrame(index=testOHE.index, data=modelbasic.predict(testarr), columns=['y']).to_csv('submissionNick5.csv')"
   ]
  },
  {
   "cell_type": "code",
   "execution_count": 91,
   "metadata": {
    "collapsed": true
   },
   "outputs": [],
   "source": [
    "variablie = modelbasic.predict(testarr)"
   ]
  },
  {
   "cell_type": "code",
   "execution_count": 92,
   "metadata": {},
   "outputs": [
    {
     "name": "stdout",
     "output_type": "stream",
     "text": [
      "[[  74.76895142]\n",
      " [  92.1783371 ]\n",
      " [  77.79068756]\n",
      " ..., \n",
      " [  97.84439087]\n",
      " [ 113.71087646]\n",
      " [  91.9430542 ]]\n"
     ]
    }
   ],
   "source": [
    "print(variablie)"
   ]
  },
  {
   "cell_type": "code",
   "execution_count": null,
   "metadata": {
    "collapsed": true
   },
   "outputs": [],
   "source": []
  }
 ],
 "metadata": {
  "kernelspec": {
   "display_name": "Python 3",
   "language": "python",
   "name": "python3"
  },
  "language_info": {
   "codemirror_mode": {
    "name": "ipython",
    "version": 3
   },
   "file_extension": ".py",
   "mimetype": "text/x-python",
   "name": "python",
   "nbconvert_exporter": "python",
   "pygments_lexer": "ipython3",
   "version": "3.6.1"
  }
 },
 "nbformat": 4,
 "nbformat_minor": 2
}
