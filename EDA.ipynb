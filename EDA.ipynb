{
 "cells": [
  {
   "cell_type": "code",
   "execution_count": 1,
   "metadata": {},
   "outputs": [
    {
     "name": "stderr",
     "output_type": "stream",
     "text": [
      "/Users/Jake/anaconda/lib/python3.6/site-packages/statsmodels/compat/pandas.py:56: FutureWarning: The pandas.core.datetools module is deprecated and will be removed in a future version. Please use the pandas.tseries module instead.\n",
      "  from pandas.core import datetools\n"
     ]
    }
   ],
   "source": [
    "# improves quality of graphic outputs if you're on a Macbook with Retina display\n",
    "%config InlineBackend.figure_format = 'retina'\n",
    "\n",
    "# can display multiple things without call to print()\n",
    "from IPython.core.interactiveshell import InteractiveShell\n",
    "InteractiveShell.ast_node_interactivity = \"all\"\n",
    "\n",
    "# interactive plots\n",
    "# %matplotlib notebook\n",
    "%matplotlib inline\n",
    "\n",
    "import numpy as np\n",
    "import pandas as pd\n",
    "import matplotlib.pyplot as plt\n",
    "import seaborn as sns\n",
    "import statsmodels.api as sm\n",
    "import utils"
   ]
  },
  {
   "cell_type": "code",
   "execution_count": 14,
   "metadata": {},
   "outputs": [],
   "source": [
    "train = pd.read_csv('data/train.csv', index_col='ID')\n",
    "constcols_train = list(train.loc[:,train.apply(lambda i: len(i.unique()) == 1)].columns)\n",
    "train = train[list(set(train.columns) - set(constcols_train))]\n",
    "test = pd.read_csv('data/test.csv', index_col='ID')\n",
    "test = test[list(set(test.columns) - set(constcols_train))]\n",
    "tot = pd.concat([train, test]).sort_index()\n",
    "enumcols = list(train.select_dtypes(include=['object']).columns)\n",
    "bincols = list(train.select_dtypes(include=['int64']).columns)"
   ]
  },
  {
   "cell_type": "code",
   "execution_count": 27,
   "metadata": {
    "scrolled": true
   },
   "outputs": [
    {
     "name": "stdout",
     "output_type": "stream",
     "text": [
      "WITH OUTLIER \n",
      " ADF Statistic: -44.8751711040339, p-val: 0.0\n"
     ]
    },
    {
     "data": {
      "text/plain": [
       "mean    100.630190\n",
       "std      12.424146\n",
       "skew      0.738671\n",
       "kurt      1.505205\n",
       "Name: y, dtype: float64"
      ]
     },
     "execution_count": 27,
     "metadata": {},
     "output_type": "execute_result"
    },
    {
     "data": {
      "text/html": [
       "<table class=\"simpletable\">\n",
       "<caption>OLS Regression Results</caption>\n",
       "<tr>\n",
       "  <th>Dep. Variable:</th>            <td>y</td>        <th>  R-squared:         </th> <td>   0.003</td> \n",
       "</tr>\n",
       "<tr>\n",
       "  <th>Model:</th>                   <td>OLS</td>       <th>  Adj. R-squared:    </th> <td>   0.003</td> \n",
       "</tr>\n",
       "<tr>\n",
       "  <th>Method:</th>             <td>Least Squares</td>  <th>  F-statistic:       </th> <td>   11.89</td> \n",
       "</tr>\n",
       "<tr>\n",
       "  <th>Date:</th>             <td>Wed, 31 May 2017</td> <th>  Prob (F-statistic):</th> <td>0.000568</td> \n",
       "</tr>\n",
       "<tr>\n",
       "  <th>Time:</th>                 <td>22:50:40</td>     <th>  Log-Likelihood:    </th> <td> -16567.</td> \n",
       "</tr>\n",
       "<tr>\n",
       "  <th>No. Observations:</th>      <td>  4208</td>      <th>  AIC:               </th> <td>3.314e+04</td>\n",
       "</tr>\n",
       "<tr>\n",
       "  <th>Df Residuals:</th>          <td>  4206</td>      <th>  BIC:               </th> <td>3.315e+04</td>\n",
       "</tr>\n",
       "<tr>\n",
       "  <th>Df Model:</th>              <td>     1</td>      <th>                     </th>     <td> </td>    \n",
       "</tr>\n",
       "<tr>\n",
       "  <th>Covariance Type:</th>      <td>nonrobust</td>    <th>                     </th>     <td> </td>    \n",
       "</tr>\n",
       "</table>\n",
       "<table class=\"simpletable\">\n",
       "<tr>\n",
       "    <td></td>       <th>coef</th>     <th>std err</th>      <th>t</th>      <th>P>|t|</th>  <th>[0.025</th>    <th>0.975]</th>  \n",
       "</tr>\n",
       "<tr>\n",
       "  <th>const</th> <td>  101.7688</td> <td>    0.382</td> <td>  266.733</td> <td> 0.000</td> <td>  101.021</td> <td>  102.517</td>\n",
       "</tr>\n",
       "<tr>\n",
       "  <th>x1</th>    <td>   -0.0003</td> <td> 7.85e-05</td> <td>   -3.449</td> <td> 0.001</td> <td>   -0.000</td> <td>   -0.000</td>\n",
       "</tr>\n",
       "</table>\n",
       "<table class=\"simpletable\">\n",
       "<tr>\n",
       "  <th>Omnibus:</th>       <td>446.373</td> <th>  Durbin-Watson:     </th> <td>   2.194</td> \n",
       "</tr>\n",
       "<tr>\n",
       "  <th>Prob(Omnibus):</th> <td> 0.000</td>  <th>  Jarque-Bera (JB):  </th> <td> 765.206</td> \n",
       "</tr>\n",
       "<tr>\n",
       "  <th>Skew:</th>          <td> 0.734</td>  <th>  Prob(JB):          </th> <td>6.88e-167</td>\n",
       "</tr>\n",
       "<tr>\n",
       "  <th>Kurtosis:</th>      <td> 4.486</td>  <th>  Cond. No.          </th> <td>9.70e+03</td> \n",
       "</tr>\n",
       "</table>"
      ],
      "text/plain": [
       "<class 'statsmodels.iolib.summary.Summary'>\n",
       "\"\"\"\n",
       "                            OLS Regression Results                            \n",
       "==============================================================================\n",
       "Dep. Variable:                      y   R-squared:                       0.003\n",
       "Model:                            OLS   Adj. R-squared:                  0.003\n",
       "Method:                 Least Squares   F-statistic:                     11.89\n",
       "Date:                Wed, 31 May 2017   Prob (F-statistic):           0.000568\n",
       "Time:                        22:50:40   Log-Likelihood:                -16567.\n",
       "No. Observations:                4208   AIC:                         3.314e+04\n",
       "Df Residuals:                    4206   BIC:                         3.315e+04\n",
       "Df Model:                           1                                         \n",
       "Covariance Type:            nonrobust                                         \n",
       "==============================================================================\n",
       "                 coef    std err          t      P>|t|      [0.025      0.975]\n",
       "------------------------------------------------------------------------------\n",
       "const        101.7688      0.382    266.733      0.000     101.021     102.517\n",
       "x1            -0.0003   7.85e-05     -3.449      0.001      -0.000      -0.000\n",
       "==============================================================================\n",
       "Omnibus:                      446.373   Durbin-Watson:                   2.194\n",
       "Prob(Omnibus):                  0.000   Jarque-Bera (JB):              765.206\n",
       "Skew:                           0.734   Prob(JB):                    6.88e-167\n",
       "Kurtosis:                       4.486   Cond. No.                     9.70e+03\n",
       "==============================================================================\n",
       "\n",
       "Warnings:\n",
       "[1] Standard Errors assume that the covariance matrix of the errors is correctly specified.\n",
       "[2] The condition number is large, 9.7e+03. This might indicate that there are\n",
       "strong multicollinearity or other numerical problems.\n",
       "\"\"\""
      ]
     },
     "execution_count": 27,
     "metadata": {},
     "output_type": "execute_result"
    },
    {
     "name": "stdout",
     "output_type": "stream",
     "text": [
      "WITHOUT OUTLIER \n",
      " ADF Statistic: -19.452668872736226, p-val: 0.0\n"
     ]
    },
    {
     "data": {
      "text/plain": [
       "mean    0.016098\n",
       "std     0.183344\n",
       "skew    0.559753\n",
       "kurt    0.792236\n",
       "Name: y, dtype: float64"
      ]
     },
     "execution_count": 27,
     "metadata": {},
     "output_type": "execute_result"
    },
    {
     "data": {
      "text/html": [
       "<table class=\"simpletable\">\n",
       "<caption>OLS Regression Results</caption>\n",
       "<tr>\n",
       "  <th>Dep. Variable:</th>            <td>y</td>        <th>  R-squared:         </th> <td>   0.000</td>\n",
       "</tr>\n",
       "<tr>\n",
       "  <th>Model:</th>                   <td>OLS</td>       <th>  Adj. R-squared:    </th> <td>  -0.000</td>\n",
       "</tr>\n",
       "<tr>\n",
       "  <th>Method:</th>             <td>Least Squares</td>  <th>  F-statistic:       </th> <td>  0.1012</td>\n",
       "</tr>\n",
       "<tr>\n",
       "  <th>Date:</th>             <td>Wed, 31 May 2017</td> <th>  Prob (F-statistic):</th>  <td> 0.750</td> \n",
       "</tr>\n",
       "<tr>\n",
       "  <th>Time:</th>                 <td>22:50:40</td>     <th>  Log-Likelihood:    </th> <td>  1167.8</td>\n",
       "</tr>\n",
       "<tr>\n",
       "  <th>No. Observations:</th>      <td>  4207</td>      <th>  AIC:               </th> <td>  -2332.</td>\n",
       "</tr>\n",
       "<tr>\n",
       "  <th>Df Residuals:</th>          <td>  4205</td>      <th>  BIC:               </th> <td>  -2319.</td>\n",
       "</tr>\n",
       "<tr>\n",
       "  <th>Df Model:</th>              <td>     1</td>      <th>                     </th>     <td> </td>   \n",
       "</tr>\n",
       "<tr>\n",
       "  <th>Covariance Type:</th>      <td>nonrobust</td>    <th>                     </th>     <td> </td>   \n",
       "</tr>\n",
       "</table>\n",
       "<table class=\"simpletable\">\n",
       "<tr>\n",
       "    <td></td>       <th>coef</th>     <th>std err</th>      <th>t</th>      <th>P>|t|</th>  <th>[0.025</th>    <th>0.975]</th>  \n",
       "</tr>\n",
       "<tr>\n",
       "  <th>const</th> <td>    0.0177</td> <td>    0.006</td> <td>    3.129</td> <td> 0.002</td> <td>    0.007</td> <td>    0.029</td>\n",
       "</tr>\n",
       "<tr>\n",
       "  <th>x1</th>    <td> -3.69e-07</td> <td> 1.16e-06</td> <td>   -0.318</td> <td> 0.750</td> <td>-2.64e-06</td> <td> 1.91e-06</td>\n",
       "</tr>\n",
       "</table>\n",
       "<table class=\"simpletable\">\n",
       "<tr>\n",
       "  <th>Omnibus:</th>       <td>251.061</td> <th>  Durbin-Watson:     </th> <td>   3.120</td>\n",
       "</tr>\n",
       "<tr>\n",
       "  <th>Prob(Omnibus):</th> <td> 0.000</td>  <th>  Jarque-Bera (JB):  </th> <td> 327.691</td>\n",
       "</tr>\n",
       "<tr>\n",
       "  <th>Skew:</th>          <td> 0.559</td>  <th>  Prob(JB):          </th> <td>6.96e-72</td>\n",
       "</tr>\n",
       "<tr>\n",
       "  <th>Kurtosis:</th>      <td> 3.788</td>  <th>  Cond. No.          </th> <td>9.70e+03</td>\n",
       "</tr>\n",
       "</table>"
      ],
      "text/plain": [
       "<class 'statsmodels.iolib.summary.Summary'>\n",
       "\"\"\"\n",
       "                            OLS Regression Results                            \n",
       "==============================================================================\n",
       "Dep. Variable:                      y   R-squared:                       0.000\n",
       "Model:                            OLS   Adj. R-squared:                 -0.000\n",
       "Method:                 Least Squares   F-statistic:                    0.1012\n",
       "Date:                Wed, 31 May 2017   Prob (F-statistic):              0.750\n",
       "Time:                        22:50:40   Log-Likelihood:                 1167.8\n",
       "No. Observations:                4207   AIC:                            -2332.\n",
       "Df Residuals:                    4205   BIC:                            -2319.\n",
       "Df Model:                           1                                         \n",
       "Covariance Type:            nonrobust                                         \n",
       "==============================================================================\n",
       "                 coef    std err          t      P>|t|      [0.025      0.975]\n",
       "------------------------------------------------------------------------------\n",
       "const          0.0177      0.006      3.129      0.002       0.007       0.029\n",
       "x1          -3.69e-07   1.16e-06     -0.318      0.750   -2.64e-06    1.91e-06\n",
       "==============================================================================\n",
       "Omnibus:                      251.061   Durbin-Watson:                   3.120\n",
       "Prob(Omnibus):                  0.000   Jarque-Bera (JB):              327.691\n",
       "Skew:                           0.559   Prob(JB):                     6.96e-72\n",
       "Kurtosis:                       3.788   Cond. No.                     9.70e+03\n",
       "==============================================================================\n",
       "\n",
       "Warnings:\n",
       "[1] Standard Errors assume that the covariance matrix of the errors is correctly specified.\n",
       "[2] The condition number is large, 9.7e+03. This might indicate that there are\n",
       "strong multicollinearity or other numerical problems.\n",
       "\"\"\""
      ]
     },
     "execution_count": 27,
     "metadata": {},
     "output_type": "execute_result"
    },
    {
     "ename": "NameError",
     "evalue": "name 'temp2' is not defined",
     "output_type": "error",
     "traceback": [
      "\u001b[0;31m---------------------------------------------------------------------------\u001b[0m",
      "\u001b[0;31mNameError\u001b[0m                                 Traceback (most recent call last)",
      "\u001b[0;32m<ipython-input-27-f2692be6e22f>\u001b[0m in \u001b[0;36m<module>\u001b[0;34m()\u001b[0m\n\u001b[1;32m     10\u001b[0m \u001b[0msm\u001b[0m\u001b[0;34m.\u001b[0m\u001b[0mOLS\u001b[0m\u001b[0;34m(\u001b[0m\u001b[0mtmp2\u001b[0m\u001b[0;34m,\u001b[0m \u001b[0msm\u001b[0m\u001b[0;34m.\u001b[0m\u001b[0madd_constant\u001b[0m\u001b[0;34m(\u001b[0m\u001b[0mtmp2\u001b[0m\u001b[0;34m.\u001b[0m\u001b[0mindex\u001b[0m\u001b[0;34m)\u001b[0m\u001b[0;34m)\u001b[0m\u001b[0;34m.\u001b[0m\u001b[0mfit\u001b[0m\u001b[0;34m(\u001b[0m\u001b[0;34m)\u001b[0m\u001b[0;34m.\u001b[0m\u001b[0msummary\u001b[0m\u001b[0;34m(\u001b[0m\u001b[0;34m)\u001b[0m\u001b[0;34m\u001b[0m\u001b[0m\n\u001b[1;32m     11\u001b[0m \u001b[0;34m\u001b[0m\u001b[0m\n\u001b[0;32m---> 12\u001b[0;31m \u001b[0;32mdel\u001b[0m \u001b[0mtmp\u001b[0m\u001b[0;34m,\u001b[0m \u001b[0mtemp2\u001b[0m\u001b[0;34m\u001b[0m\u001b[0m\n\u001b[0m",
      "\u001b[0;31mNameError\u001b[0m: name 'temp2' is not defined"
     ]
    }
   ],
   "source": [
    "from statsmodels.tsa.stattools import adfuller\n",
    "tmp = train.loc[train['y']<train['y'].max(),'y']\n",
    "print('WITH OUTLIER \\n ADF Statistic: {r[0]}, p-val: {r[1]}'.format(r=adfuller(tmp)))\n",
    "tmp.agg(['mean','std','skew','kurt'])\n",
    "sm.OLS(tmp, sm.add_constant(tmp.index)).fit().summary()\n",
    "\n",
    "tmp2 = tmp.pct_change().dropna()\n",
    "print('WITHOUT OUTLIER \\n ADF Statistic: {r[0]}, p-val: {r[1]}'.format(r=adfuller(tmp2)))\n",
    "tmp2.agg(['mean','std','skew','kurt'])\n",
    "sm.OLS(tmp2, sm.add_constant(tmp2.index)).fit().summary()\n",
    "\n",
    "del tmp, temp2"
   ]
  },
  {
   "cell_type": "code",
   "execution_count": 29,
   "metadata": {},
   "outputs": [],
   "source": [
    "from sklearn.ensemble import RandomForestRegressor, AdaBoostRegressor, GradientBoostingRegressor\n",
    "from sklearn.neural_network import MLPRegressor\n",
    "from sklearn.preprocessing import OneHotEncoder\n",
    "from sklearn.model_selection import train_test_split\n",
    "\n",
    "RS = 42\n",
    "\n",
    "x1, x2, y1, y2 = train_test_split(pd.concat([pd.get_dummies(train[enumcols]), train[bincols]], axis=1, verify_integrity=True), train['y'], test_size=0.2, random_state=RS)\n",
    "\n",
    "clfs = {\n",
    "    'RFR': [RandomForestRegressor(random_state=RS), {\n",
    "        'n_estimators': [10, 100, 1000],\n",
    "        'min_samples_split': [2, 20, 200],\n",
    "    }],\n",
    "    'ABR': [AdaBoostRegressor(random_state=RS), {\n",
    "        'n_estimators': [5, 50, 500],\n",
    "        'learning_rate': [0.1, 0.5, 1.],\n",
    "    }],\n",
    "    'GBR': [GradientBoostingRegressor(random_state=RS), {\n",
    "        'loss': ['ls', 'lad', 'huber', 'quantile'],\n",
    "        'n_estimators': [10, 100, 1000],\n",
    "        'learning_rate': [0.1, 0.5, 1.],\n",
    "    }],\n",
    "    'MLP': [MLPRegressor(random_state=RS), {\n",
    "        'hidden_layer_sizes': [(5,5,2), (350, 250, 100)]\n",
    "    }]\n",
    "}"
   ]
  },
  {
   "cell_type": "code",
   "execution_count": null,
   "metadata": {},
   "outputs": [],
   "source": [
    "results = {name: utils.classify(params,x1=x1,y1=y1,x2=x2,y2=y2) for (name, params) in clfs.items()}"
   ]
  },
  {
   "cell_type": "code",
   "execution_count": 30,
   "metadata": {
    "collapsed": true
   },
   "outputs": [],
   "source": [
    "from sklearn.svm import SVR\n",
    "svr = SVR(kernel='linear').fit(x1, y1)"
   ]
  },
  {
   "cell_type": "code",
   "execution_count": 31,
   "metadata": {
    "collapsed": true
   },
   "outputs": [],
   "source": [
    "pred = svr.predict(x2)"
   ]
  },
  {
   "cell_type": "code",
   "execution_count": 32,
   "metadata": {},
   "outputs": [
    {
     "data": {
      "text/plain": [
       "0.55676837895382736"
      ]
     },
     "execution_count": 32,
     "metadata": {},
     "output_type": "execute_result"
    }
   ],
   "source": [
    "from sklearn.metrics import r2_score\n",
    "r2_score(y2, pred)"
   ]
  },
  {
   "cell_type": "code",
   "execution_count": null,
   "metadata": {
    "collapsed": true
   },
   "outputs": [],
   "source": []
  }
 ],
 "metadata": {
  "kernelspec": {
   "display_name": "Python 3",
   "language": "python",
   "name": "python3"
  },
  "language_info": {
   "codemirror_mode": {
    "name": "ipython",
    "version": 3
   },
   "file_extension": ".py",
   "mimetype": "text/x-python",
   "name": "python",
   "nbconvert_exporter": "python",
   "pygments_lexer": "ipython3",
   "version": "3.6.0"
  }
 },
 "nbformat": 4,
 "nbformat_minor": 2
}
